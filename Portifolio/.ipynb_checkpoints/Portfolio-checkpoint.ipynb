{
 "cells": [
  {
   "cell_type": "code",
   "execution_count": 28,
   "id": "51857803-f8bf-43da-a332-aed74e59020e",
   "metadata": {
    "tags": []
   },
   "outputs": [],
   "source": [
    "import numpy as np\n",
    "import matplotlib.pyplot as plt\n",
    "from dataclasses import dataclass\n",
    "\n",
    "import cvxpy as cp"
   ]
  },
  {
   "cell_type": "markdown",
   "id": "dd0579df-73ad-4ed6-9a5c-6be6481cdebd",
   "metadata": {},
   "source": [
    "### Markowitz portifolio\n",
    "Let $N$ be the number of available assets and $\\bf{V} = (v_1,\\ldots,v_N) \\in \\mathbb{R}^N$ be the holding shares of these assets and $\\bf{S} = (s_0,\\ldots , s_N)$ are their prices per share. Let and $W_t \\equiv \\sum^N_{i=1} v_{i,t} s_{i,t}$ be the wealth at time $t$\n",
    "So the return at time $t+1$ is:\n",
    "\n",
    "$$\n",
    " R_{t+1} = \\frac{ W_{t+1} - W_t}{W_t} = \\frac{ \\sum^N_{i=1}  v_{i,t} (s_{i,t+1}-s_{i,t} )}{  W_t}\n",
    "= \\sum^N_{i=1}  w_{i,t} r_{i,t}\n",
    "$$\n",
    "\n",
    "where $r_{i,t} = \\frac{s_{i,t+1} - s_{i,t}}{s_{i,t}}$ and $w_{i,t} = \\frac{  v_{i,t} s_{i,t}}{W_t}$. \n",
    "\n",
    "\n",
    "Mean and variance of $R_{t+1}$ is\n",
    "$$\n",
    "\\mathbb{E}_{S_t}[ R_{t+1}] = \\mathbf{w}_{t+1} \\cdot \\mathbf{\\mu}_{t+1} \\qquad Var_{S_t}[ R_{t+1}]  = \\mathbf{w}_{t+1}^T \\Sigma  \\mathbf{w}_{t+1}\n",
    "$$\n",
    "\n",
    "where $(\\sum)_{i,j}  = \\frac{\\mathbb{E}_{S_t}\\left\\{  (r_i - \\mu_i) (r_j - \\mu_j)  \\right\\}}{\\sigma_i \\sigma_j}$ is the covariance matrix."
   ]
  },
  {
   "cell_type": "code",
   "execution_count": 53,
   "id": "3b66f54c-b1b7-4d4d-be05-0b19575dd4fb",
   "metadata": {
    "tags": []
   },
   "outputs": [
    {
     "data": {
      "text/plain": [
       "array([[0., 0., 0., 0., 0., 0., 0., 0., 0.]])"
      ]
     },
     "execution_count": 53,
     "metadata": {},
     "output_type": "execute_result"
    }
   ],
   "source": [
    "np.empty((1,9))"
   ]
  },
  {
   "cell_type": "code",
   "execution_count": 144,
   "id": "ee592400-5122-4384-ac35-3655c7f9cf90",
   "metadata": {
    "tags": []
   },
   "outputs": [],
   "source": [
    "@dataclass\n",
    "class Portfolio:\n",
    "    share_vec: np.ndarray  # (n_assets,) array of previous asset weights, first component is cash\n",
    "    \n",
    "    @property\n",
    "    def n_assets(self):\n",
    "        return self.share_vec.shape[0]\n",
    "    \n",
    "    # return total wealth w.r.t the prices\n",
    "    def wealth(self, price_vec):\n",
    "        return self.share_vec[0] + self.share_vec[1:] @ np.array(price_vec)\n",
    "    # return the weight of each asset w.r.t the prices\n",
    "    def weight_vec(self,price_vec):\n",
    "        share_vec= self.share_vec\n",
    "        N= self.n_assets\n",
    "        array=np.zeros(N)\n",
    "        for i in range(N):\n",
    "            # cash\n",
    "            if i==0:\n",
    "                array[i] = share_vec[0]\n",
    "            else:\n",
    "                array[i] = share_vec[i]*price_vec[i-1]\n",
    "        return array/self.wealth(price_vec)\n",
    "            \n",
    "    # return the weight of each asset w.r.t the prices\n",
    "    def value_vec(self,price_vec):\n",
    "        # include the cash\n",
    "        return self.share_vec *np.insert(price_vec,0,1)\n",
    "    \n",
    "    #update the share_vec w.r.t the prices and new weight\n",
    "    def update_portfolio( self, new_weight_vec,new_price_vec):\n",
    "        new_wealth = self.wealth(new_price_vec)\n",
    "        \n",
    "        new_share_vec = np.array(new_weight_vec)* new_wealth/np.insert(new_price_vec,0,1)\n",
    "        self.share_vec= new_share_vec"
   ]
  },
  {
   "cell_type": "code",
   "execution_count": 145,
   "id": "d83283eb-25be-4964-a245-786751fc8166",
   "metadata": {
    "tags": []
   },
   "outputs": [
    {
     "data": {
      "text/plain": [
       "(array([100,  50]), array([ 100, 5000]))"
      ]
     },
     "execution_count": 145,
     "metadata": {},
     "output_type": "execute_result"
    }
   ],
   "source": [
    "my=Portfolio(np.array([100,50]))\n",
    "my.share_vec, my.value_vec([100])"
   ]
  },
  {
   "cell_type": "code",
   "execution_count": 136,
   "id": "51a47522-b534-4e8c-8401-04cb732596b5",
   "metadata": {
    "tags": []
   },
   "outputs": [
    {
     "data": {
      "text/plain": [
       "(5100, array([0.01960784, 0.98039216]))"
      ]
     },
     "execution_count": 136,
     "metadata": {},
     "output_type": "execute_result"
    }
   ],
   "source": [
    "my.wealth(price_vec=np.array([100])), my.weight_vec([100])"
   ]
  },
  {
   "cell_type": "code",
   "execution_count": 142,
   "id": "b2047cc7-d77d-4e67-882c-ad903e00da37",
   "metadata": {
    "tags": []
   },
   "outputs": [
    {
     "data": {
      "text/plain": [
       "(4600.0, array([2300.        ,   25.55555556]))"
      ]
     },
     "execution_count": 142,
     "metadata": {},
     "output_type": "execute_result"
    }
   ],
   "source": [
    "my.update_portfolio( (0.5,0.5) , [90])\n",
    "my.wealth([90]),my.share_vec"
   ]
  },
  {
   "cell_type": "code",
   "execution_count": 143,
   "id": "fbd2a292-7e6c-4769-b693-fb50e20d5d33",
   "metadata": {
    "tags": []
   },
   "outputs": [
    {
     "ename": "NameError",
     "evalue": "name 'Data' is not defined",
     "output_type": "error",
     "traceback": [
      "\u001b[1;31m---------------------------------------------------------------------------\u001b[0m",
      "\u001b[1;31mNameError\u001b[0m                                 Traceback (most recent call last)",
      "Cell \u001b[1;32mIn[143], line 21\u001b[0m\n\u001b[0;32m     17\u001b[0m     gamma_leverage: \u001b[38;5;28mfloat\u001b[39m  \u001b[38;5;66;03m# leverage cost\u001b[39;00m\n\u001b[0;32m     18\u001b[0m     risk_target: \u001b[38;5;28mfloat\u001b[39m  \u001b[38;5;66;03m# risk target as volatility\u001b[39;00m\n\u001b[1;32m---> 21\u001b[0m \u001b[38;5;28;01mdef\u001b[39;00m \u001b[38;5;21mmarkowitz\u001b[39m(data: \u001b[43mData\u001b[49m, param: Parameters) \u001b[38;5;241m-\u001b[39m\u001b[38;5;241m>\u001b[39m \u001b[38;5;28mtuple\u001b[39m[np\u001b[38;5;241m.\u001b[39mndarray, \u001b[38;5;28mfloat\u001b[39m, cp\u001b[38;5;241m.\u001b[39mProblem]:\n\u001b[0;32m     22\u001b[0m \u001b[38;5;250m    \u001b[39m\u001b[38;5;124;03m\"\"\"\u001b[39;00m\n\u001b[0;32m     23\u001b[0m \u001b[38;5;124;03m    Markowitz portfolio optimization.\u001b[39;00m\n\u001b[0;32m     24\u001b[0m \u001b[38;5;124;03m    This function contains the code listing for the accompanying paper.\u001b[39;00m\n\u001b[0;32m     25\u001b[0m \u001b[38;5;124;03m    \"\"\"\u001b[39;00m\n\u001b[0;32m     27\u001b[0m     w, c \u001b[38;5;241m=\u001b[39m cp\u001b[38;5;241m.\u001b[39mVariable(data\u001b[38;5;241m.\u001b[39mn_assets), cp\u001b[38;5;241m.\u001b[39mVariable()\n",
      "\u001b[1;31mNameError\u001b[0m: name 'Data' is not defined"
     ]
    }
   ],
   "source": [
    "\n",
    "\n",
    "\n",
    "@dataclass\n",
    "class Parameters:\n",
    "    w_min: np.ndarray  # (n_assets,) array of lower bounds on asset weights\n",
    "    w_max: np.ndarray  # (n_assets,) array of upper bounds on asset weights\n",
    "    c_min: float  # lower bound on cash weight\n",
    "    c_max: float  # upper bound on cash weight\n",
    "    z_min: np.ndarray  # (n_assets,) array of lower bounds on trades\n",
    "    z_max: np.ndarray  # (n_assets,) array of upper bounds on trades\n",
    "    T_tar: float  # turnover target\n",
    "    L_tar: float  # leverage target\n",
    "    rho_mean: np.ndarray  # (n_assets,) array of mean returns for rho\n",
    "    rho_covariance: float  # uncertainty in covariance matrix\n",
    "    gamma_hold: float  # holding cost\n",
    "    gamma_trade: float  # trading cost\n",
    "    gamma_turn: float  # turnover cost\n",
    "    gamma_risk: float  # risk cost\n",
    "    gamma_leverage: float  # leverage cost\n",
    "    risk_target: float  # risk target as volatility\n",
    "\n",
    "\n",
    "def markowitz(data: Data, param: Parameters) -> tuple[np.ndarray, float, cp.Problem]:\n",
    "    \"\"\"\n",
    "    Markowitz portfolio optimization.\n",
    "    This function contains the code listing for the accompanying paper.\n",
    "    \"\"\"\n",
    "\n",
    "    w, c = cp.Variable(data.n_assets), cp.Variable()\n",
    "\n",
    "    z = w - data.w_prev\n",
    "    T = cp.norm1(z) / 2\n",
    "    L = cp.norm1(w)\n",
    "\n",
    "    # worst-case (robust) return\n",
    "    factor_return = (data.F @ data.factor_mean).T @ w\n",
    "    idio_return = data.idio_mean @ w\n",
    "    mean_return = factor_return + idio_return + data.risk_free * c\n",
    "    return_uncertainty = param.rho_mean @ cp.abs(w)\n",
    "    return_wc = mean_return - return_uncertainty\n",
    "\n",
    "    # worst-case (robust) risk\n",
    "    factor_risk = cp.norm2((data.F @ data.factor_covariance_chol).T @ w)\n",
    "    idio_risk = cp.norm2(cp.multiply(data.idio_volas, w))\n",
    "    risk = cp.norm2(cp.hstack([factor_risk, idio_risk]))\n",
    "    risk_uncertainty = param.rho_covariance**0.5 * data.volas @ cp.abs(w)\n",
    "    risk_wc = cp.norm2(cp.hstack([risk, risk_uncertainty]))\n",
    "\n",
    "    asset_holding_cost = data.kappa_short @ cp.pos(-w)\n",
    "    cash_holding_cost = data.kappa_borrow * cp.pos(-c)\n",
    "    holding_cost = asset_holding_cost + cash_holding_cost\n",
    "\n",
    "    spread_cost = data.kappa_spread @ cp.abs(z)\n",
    "    impact_cost = data.kappa_impact @ cp.power(cp.abs(z), 3 / 2)\n",
    "    trading_cost = spread_cost + impact_cost\n",
    "\n",
    "    objective = return_wc - param.gamma_hold * holding_cost - param.gamma_trade * trading_cost\n",
    "\n",
    "    constraints = [\n",
    "        cp.sum(w) + c == 1,\n",
    "        param.w_min <= w,\n",
    "        w <= param.w_max,\n",
    "        L <= param.L_tar,\n",
    "        param.c_min <= c,\n",
    "        c <= param.c_max,\n",
    "        param.z_min <= z,\n",
    "        z <= param.z_max,\n",
    "        T <= param.T_tar,\n",
    "        risk_wc <= param.risk_target,\n",
    "    ]\n",
    "\n",
    "    problem = cp.Problem(cp.Maximize(objective), constraints)\n",
    "    problem.solve()\n",
    "    assert problem.status in {cp.OPTIMAL, cp.OPTIMAL_INACCURATE}, problem.status\n",
    "    return w.value, c.value, problem\n",
    "\n",
    "\n",
    "if __name__ == \"__main__\":\n",
    "    # Create empty data and parameters objects to check types and shapes,\n",
    "    # will be replaced by example data\n",
    "\n",
    "    n_assets = 10\n",
    "    data = Data(\n",
    "        w_prev=np.ones(n_assets) / n_assets,\n",
    "        idio_mean=np.zeros(n_assets),\n",
    "        factor_mean=np.zeros(n_assets),\n",
    "        risk_free=0.0,\n",
    "        factor_covariance_chol=np.zeros((n_assets, n_assets)),\n",
    "        idio_volas=np.zeros(n_assets),\n",
    "        F=np.zeros((n_assets, n_assets)),\n",
    "        kappa_short=np.zeros(n_assets),\n",
    "        kappa_borrow=0.0,\n",
    "        kappa_spread=np.zeros(n_assets),\n",
    "        kappa_impact=np.zeros(n_assets),\n",
    "    )\n",
    "\n",
    "    param = Parameters(\n",
    "        w_min=np.zeros(n_assets),\n",
    "        w_max=np.ones(n_assets),\n",
    "        c_min=0.0,\n",
    "        c_max=1.0,\n",
    "        z_min=-np.ones(n_assets),\n",
    "        z_max=np.ones(n_assets),\n",
    "        T_tar=1.0,\n",
    "        L_tar=1.0,\n",
    "        rho_mean=np.zeros(n_assets),\n",
    "        rho_covariance=0.0,\n",
    "        gamma_hold=0.0,\n",
    "        gamma_trade=0.0,\n",
    "        gamma_turn=0.0,\n",
    "        gamma_risk=0.0,\n",
    "        gamma_leverage=0.0,\n",
    "        risk_target=0.0,\n",
    "    )\n",
    "\n",
    "    w, c, _ = markowitz(data, param)\n",
    "    print(w, c)"
   ]
  },
  {
   "cell_type": "code",
   "execution_count": null,
   "id": "1e6d09b1-bafb-4b6c-b2c2-8b87f0bfe9d6",
   "metadata": {},
   "outputs": [],
   "source": [
    "\n",
    "\n",
    "@dataclass\n",
    "class Portifolio:\n",
    "    w_prev: np.ndarray  # (n_assets,) array of previous asset weights\n",
    "    idio_mean: np.ndarray  # (n_assets,) array of idiosyncratic mean returns\n",
    "    factor_mean: np.ndarray  # (n_factors,) array of factor mean returns\n",
    "    risk_free: float  # risk-free rate\n",
    "    factor_covariance_chol: np.ndarray  # (n_factors, n_factors) covariance matrix of factor returns\n",
    "    idio_volas: np.ndarray  # (n_assets,) array of idiosyncratic volatilities\n",
    "    F: np.ndarray  # (n_assets, n_factors) array of factor exposures\n",
    "    kappa_short: np.ndarray  # (n_assets,) array of shorting cost\n",
    "    kappa_borrow: float  # borrowing cost\n",
    "    kappa_spread: np.ndarray  # (n_assets,) array of bid-ask spreads\n",
    "    kappa_impact: np.ndarray  # (n_assets,) array of market impact costs\n",
    "\n",
    "    @property\n",
    "    def n_assets(self) -> int:\n",
    "        return self.w_prev.size\n",
    "\n",
    "    @property\n",
    "    def volas(self) -> np.ndarray:\n",
    "        return self.idio_volas + np.linalg.norm(self.F @ self.factor_covariance_chol, axis=1)\n",
    "\n",
    "\n",
    "@dataclass\n",
    "class Parameters:\n",
    "    w_min: np.ndarray  # (n_assets,) array of lower bounds on asset weights\n",
    "    w_max: np.ndarray  # (n_assets,) array of upper bounds on asset weights\n",
    "    c_min: float  # lower bound on cash weight\n",
    "    c_max: float  # upper bound on cash weight\n",
    "    z_min: np.ndarray  # (n_assets,) array of lower bounds on trades\n",
    "    z_max: np.ndarray  # (n_assets,) array of upper bounds on trades\n",
    "    T_tar: float  # turnover target\n",
    "    L_tar: float  # leverage target\n",
    "    rho_mean: np.ndarray  # (n_assets,) array of mean returns for rho\n",
    "    rho_covariance: float  # uncertainty in covariance matrix\n",
    "    gamma_hold: float  # holding cost\n",
    "    gamma_trade: float  # trading cost\n",
    "    gamma_turn: float  # turnover cost\n",
    "    gamma_risk: float  # risk cost\n",
    "    gamma_leverage: float  # leverage cost\n",
    "    risk_target: float  # risk target as volatility\n",
    "\n",
    "\n",
    "def markowitz(data: Data, param: Parameters) -> tuple[np.ndarray, float, cp.Problem]:\n",
    "    \"\"\"\n",
    "    Markowitz portfolio optimization.\n",
    "    This function contains the code listing for the accompanying paper.\n",
    "    \"\"\"\n",
    "\n",
    "    w, c = cp.Variable(data.n_assets), cp.Variable()\n",
    "\n",
    "    z = w - data.w_prev\n",
    "    T = cp.norm1(z) / 2\n",
    "    L = cp.norm1(w)\n",
    "\n",
    "    # worst-case (robust) return\n",
    "    factor_return = (data.F @ data.factor_mean).T @ w\n",
    "    idio_return = data.idio_mean @ w\n",
    "    mean_return = factor_return + idio_return + data.risk_free * c\n",
    "    return_uncertainty = param.rho_mean @ cp.abs(w)\n",
    "    return_wc = mean_return - return_uncertainty\n",
    "\n",
    "    # worst-case (robust) risk\n",
    "    factor_risk = cp.norm2((data.F @ data.factor_covariance_chol).T @ w)\n",
    "    idio_risk = cp.norm2(cp.multiply(data.idio_volas, w))\n",
    "    risk = cp.norm2(cp.hstack([factor_risk, idio_risk]))\n",
    "    risk_uncertainty = param.rho_covariance**0.5 * data.volas @ cp.abs(w)\n",
    "    risk_wc = cp.norm2(cp.hstack([risk, risk_uncertainty]))\n",
    "\n",
    "    asset_holding_cost = data.kappa_short @ cp.pos(-w)\n",
    "    cash_holding_cost = data.kappa_borrow * cp.pos(-c)\n",
    "    holding_cost = asset_holding_cost + cash_holding_cost\n",
    "\n",
    "    spread_cost = data.kappa_spread @ cp.abs(z)\n",
    "    impact_cost = data.kappa_impact @ cp.power(cp.abs(z), 3 / 2)\n",
    "    trading_cost = spread_cost + impact_cost\n",
    "\n",
    "    objective = return_wc - param.gamma_hold * holding_cost - param.gamma_trade * trading_cost\n",
    "\n",
    "    constraints = [\n",
    "        cp.sum(w) + c == 1,\n",
    "        param.w_min <= w,\n",
    "        w <= param.w_max,\n",
    "        L <= param.L_tar,\n",
    "        param.c_min <= c,\n",
    "        c <= param.c_max,\n",
    "        param.z_min <= z,\n",
    "        z <= param.z_max,\n",
    "        T <= param.T_tar,\n",
    "        risk_wc <= param.risk_target,\n",
    "    ]\n",
    "\n",
    "    problem = cp.Problem(cp.Maximize(objective), constraints)\n",
    "    problem.solve()\n",
    "    assert problem.status in {cp.OPTIMAL, cp.OPTIMAL_INACCURATE}, problem.status\n",
    "    return w.value, c.value, problem\n",
    "\n",
    "\n",
    "if __name__ == \"__main__\":\n",
    "    # Create empty data and parameters objects to check types and shapes,\n",
    "    # will be replaced by example data\n",
    "\n",
    "    n_assets = 10\n",
    "    data = Data(\n",
    "        w_prev=np.ones(n_assets) / n_assets,\n",
    "        idio_mean=np.zeros(n_assets),\n",
    "        factor_mean=np.zeros(n_assets),\n",
    "        risk_free=0.0,\n",
    "        factor_covariance_chol=np.zeros((n_assets, n_assets)),\n",
    "        idio_volas=np.zeros(n_assets),\n",
    "        F=np.zeros((n_assets, n_assets)),\n",
    "        kappa_short=np.zeros(n_assets),\n",
    "        kappa_borrow=0.0,\n",
    "        kappa_spread=np.zeros(n_assets),\n",
    "        kappa_impact=np.zeros(n_assets),\n",
    "    )\n",
    "\n",
    "    param = Parameters(\n",
    "        w_min=np.zeros(n_assets),\n",
    "        w_max=np.ones(n_assets),\n",
    "        c_min=0.0,\n",
    "        c_max=1.0,\n",
    "        z_min=-np.ones(n_assets),\n",
    "        z_max=np.ones(n_assets),\n",
    "        T_tar=1.0,\n",
    "        L_tar=1.0,\n",
    "        rho_mean=np.zeros(n_assets),\n",
    "        rho_covariance=0.0,\n",
    "        gamma_hold=0.0,\n",
    "        gamma_trade=0.0,\n",
    "        gamma_turn=0.0,\n",
    "        gamma_risk=0.0,\n",
    "        gamma_leverage=0.0,\n",
    "        risk_target=0.0,\n",
    "    )\n",
    "\n",
    "    w, c, _ = markowitz(data, param)\n",
    "    print(w, c)"
   ]
  },
  {
   "cell_type": "code",
   "execution_count": null,
   "id": "24f9b7f5-0c02-4eed-90cc-d8e900bcbac4",
   "metadata": {},
   "outputs": [],
   "source": []
  },
  {
   "cell_type": "markdown",
   "id": "4edbe350-c1a4-4e81-bb81-65855622a4c3",
   "metadata": {},
   "source": [
    "### constant rebalancing\n",
    "Consider the special case that $\\mathbf{w}_t = \\mathbf{w} \\in \\mathbb{R}^d$ is a constant. For example, $d=3$ (two risky and one fixed)."
   ]
  },
  {
   "cell_type": "markdown",
   "id": "997247d3-b2e8-4db9-abf7-ae1cce3ddcfc",
   "metadata": {},
   "source": [
    "### Mean-Variance trade-off"
   ]
  },
  {
   "cell_type": "code",
   "execution_count": 4,
   "id": "2d5c040f-dc36-41ec-ad80-b4ee80be34f9",
   "metadata": {
    "tags": []
   },
   "outputs": [],
   "source": [
    "\n",
    "def generate_path(p,ratio,T):\n",
    "    ''' generate a path by geometric random walk: p is fw probability, ratio'''\n",
    "    path =np.zeros(T)\n",
    "    for t in range(T):\n",
    "        alpha = np.random.rand()\n",
    "        if alpha < p :\n",
    "            r = ratio\n",
    "        else :\n",
    "            r= -ratio\n",
    "        path[t] = r\n",
    "    return path\n",
    "\n",
    "def R_mean_std(weight_vec,p_vec,ratio_vec,T):\n",
    "    d = len(weight_vec)\n",
    "    R = np.zeros(T)\n",
    "    for i in range(d):\n",
    "        path = generate_path(p_vec[i], ratio_vec[i],T )\n",
    "        R+= weight_vec[i]*path\n",
    "    return np.mean(R), np.std(R)\n",
    "        "
   ]
  },
  {
   "cell_type": "code",
   "execution_count": null,
   "id": "75a96758-2a9b-4fc0-b4c9-fc8a2de3fd8a",
   "metadata": {},
   "outputs": [],
   "source": [
    "for i,w in enumerate(test):\n",
    "    if i%10 ==0:\n",
    "        print(i)\n",
    "    mean_array[i] ,std_array[i] = R_mean_std((w,1-w),p,r,T) "
   ]
  },
  {
   "cell_type": "markdown",
   "id": "b1f8179e-2321-412a-a969-2d67b688b112",
   "metadata": {},
   "source": [
    "Markowitz curve: plot $(\\mu , \\sigma)$ of portifolio with weight vector as parameter."
   ]
  },
  {
   "cell_type": "code",
   "execution_count": 6,
   "id": "2b327da1-25b5-4f80-8fcc-2092e3883060",
   "metadata": {
    "tags": []
   },
   "outputs": [
    {
     "name": "stdout",
     "output_type": "stream",
     "text": [
      "0\n",
      "10\n",
      "20\n",
      "30\n",
      "40\n",
      "50\n",
      "60\n",
      "70\n",
      "80\n",
      "90\n"
     ]
    },
    {
     "data": {
      "text/plain": [
       "<matplotlib.collections.PathCollection at 0x26810fc1540>"
      ]
     },
     "execution_count": 6,
     "metadata": {},
     "output_type": "execute_result"
    },
    {
     "data": {
      "image/png": "[encoded data removed]",
      "text/plain": [
       "<Figure size 640x480 with 1 Axes>"
      ]
     },
     "metadata": {},
     "output_type": "display_data"
    }
   ],
   "source": [
    "p = (0.8,0.58)\n",
    "r = (0.03 , 0.03)\n",
    "T = 10000\n",
    "mean_array = np.zeros(100)\n",
    "std_array = np.zeros(100)\n",
    "\n",
    "for i,w in enumerate(np.linspace(0,1,100)):\n",
    "    if i%10 ==0:\n",
    "        print(i)\n",
    "    mean_array[i] ,std_array[i] = R_mean_std((w,1-w),p,r,T) \n",
    "plt.scatter(std_array,mean_array)"
   ]
  },
  {
   "cell_type": "code",
   "execution_count": null,
   "id": "2c4f2741-d428-408f-863f-a2166edf5bda",
   "metadata": {},
   "outputs": [],
   "source": []
  },
  {
   "cell_type": "code",
   "execution_count": null,
   "id": "cedcab0d-38d1-47e0-8f87-572bf2944829",
   "metadata": {},
   "outputs": [],
   "source": []
  }
 ],
 "metadata": {
  "kernelspec": {
   "display_name": "Python 3 (ipykernel)",
   "language": "python",
   "name": "python3"
  },
  "language_info": {
   "codemirror_mode": {
    "name": "ipython",
    "version": 3
   },
   "file_extension": ".py",
   "mimetype": "text/x-python",
   "name": "python",
   "nbconvert_exporter": "python",
   "pygments_lexer": "ipython3",
   "version": "3.10.13"
  }
 },
 "nbformat": 4,
 "nbformat_minor": 5
}
