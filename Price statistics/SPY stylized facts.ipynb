{
 "cells": [
  {
   "cell_type": "markdown",
   "id": "f1859fa3-2f85-4b60-86f7-34860b6dd1f7",
   "metadata": {},
   "source": [
    "去你媽"
   ]
  },
  {
   "cell_type": "code",
   "execution_count": null,
   "id": "8b8786e0-d1c4-45e7-a4d1-be0c4acf5357",
   "metadata": {},
   "outputs": [],
   "source": []
  }
 ],
 "metadata": {
  "kernelspec": {
   "display_name": "Python 3 (ipykernel)",
   "language": "python",
   "name": "python3"
  },
  "language_info": {
   "codemirror_mode": {
    "name": "ipython",
    "version": 3
   },
   "file_extension": ".py",
   "mimetype": "text/x-python",
   "name": "python",
   "nbconvert_exporter": "python",
   "pygments_lexer": "ipython3",
   "version": "3.10.13"
  }
 },
 "nbformat": 4,
 "nbformat_minor": 5
}
