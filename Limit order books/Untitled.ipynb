{
 "cells": [
  {
   "cell_type": "markdown",
   "id": "09014d03-ba3b-4559-8dda-1da86f371fcd",
   "metadata": {},
   "source": [
    "### Limit order books\n",
    "[ref](https://deliverypdf.ssrn.com/delivery.php?ID=902066029110125008088024113105091072097006058033028058068072004065002064087074020092057052021031061034047025107006010082115107029038092085053122119123066100070021094025079084020013087120104022118088086098108104127083099115088081022003120112112115118088&EXT=pdf&INDEX=TRUE)\n",
    "\n",
    "Before: quote-driven => market makers publicate the sell and buy prices (has a spread)\n",
    "and earn profit from buy-low-sell-high\n",
    "\n",
    "Now : LOB => people posts their sell/buy price . \n",
    "\n",
    "#### Basic definition :\n",
    "**Def :** \n",
    "An order "
   ]
  },
  {
   "cell_type": "markdown",
   "id": "b96c4513-ae2e-4d53-9381-3641b5f05d71",
   "metadata": {},
   "source": [
    " several studies have concluded that order arrival rates depend on relative prices rather than actual price"
   ]
  }
 ],
 "metadata": {
  "kernelspec": {
   "display_name": "Python 3 (ipykernel)",
   "language": "python",
   "name": "python3"
  },
  "language_info": {
   "codemirror_mode": {
    "name": "ipython",
    "version": 3
   },
   "file_extension": ".py",
   "mimetype": "text/x-python",
   "name": "python",
   "nbconvert_exporter": "python",
   "pygments_lexer": "ipython3",
   "version": "3.10.9"
  }
 },
 "nbformat": 4,
 "nbformat_minor": 5
}
