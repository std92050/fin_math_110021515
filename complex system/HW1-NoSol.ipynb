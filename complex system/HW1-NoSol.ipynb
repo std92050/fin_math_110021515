{
 "cells": [
  {
   "cell_type": "markdown",
   "metadata": {},
   "source": [
    "<font color=red> Complex Systems: From Physics to social sciences.\n",
    "\n",
    "Jean-Philippe Bouchaud (lecturer), Valentina Ros (TDs) </font>\n",
    "\n",
    "\n",
    "#  <font color=orange> HW1: </font>  FREQUENCY DISTRIBUTION OF WORDS IN LANGUAGES"
   ]
  },
  {
   "cell_type": "markdown",
   "metadata": {},
   "source": [
    "**In this homework** we look at the emergence of Zipf's law in language. Zipf's law was made popular by the linguist G. K. Zipf, who theorised that given a long text, the frequency of each word is inversely proportional to its rank $r$:\n",
    "\n",
    " $$ f_ r \\propto 1/r^ a $$\n",
    "\n",
    "where $a$ is close to 1. This suggests that the most frequent word (having $r=1$) will occur approximately twice as often as the second most frequent word ($r=2$), which occurs twice as often as the fourth most frequent word, etc... We shall look at the emergence of power laws both in a real text (Ulysses by J. Joyce) and in random text. \n",
    "\n",
    "You'll find Ulysses as a txt file in the dropbox folder, but you may also download it using the link: http://www.gutenberg.org/files/4300/4300-0.txt"
   ]
  },
  {
   "cell_type": "markdown",
   "metadata": {},
   "source": [
    "#  <font color=orange> Solved example: </font> Power laws in real language"
   ]
  },
  {
   "cell_type": "markdown",
   "metadata": {},
   "source": [
    "We are going to check Zipf's law using the book Ulysses by J. Joyce. The book is given in the text file Ulisse.txt.\n",
    "\n",
    "Let us first import some packages needed in the following:"
   ]
  },
  {
   "cell_type": "code",
   "execution_count": 1,
   "metadata": {},
   "outputs": [],
   "source": [
    "#packages we need in the following\n",
    "import numpy as np \n",
    "import matplotlib.pyplot as plt\n",
    "import pandas as pd\n",
    "%matplotlib inline\n",
    "import re \n",
    "\n",
    "import random\n",
    "import string\n",
    "import os\n",
    "import math"
   ]
  },
  {
   "cell_type": "markdown",
   "metadata": {},
   "source": [
    "**(Pt. 1)** As a first step, we have to prepare the data. To this aim, we have to define a function that: \n",
    "\n",
    "- processes the text by collecting all the words. \n",
    "  An example is given below. The command *re.findall(r'(\\b[A-Za-z][a-z]{0,15}\\b)', data)* is   asking\n",
    "  to find (within 'data') all the words that start \n",
    "  with a letter (upper-case or lower-case) followed by a sequence of letters which consists\n",
    "  of at least 0 characters and no more than 15 characters. \n",
    "  The size of the words that will be included in the output will range from 1 to 16 characters long.\n",
    "\n",
    "\n",
    "- Counts the frequency with which a given word appears in the text."
   ]
  },
  {
   "cell_type": "markdown",
   "metadata": {},
   "source": [
    "*Solution:*"
   ]
  },
  {
   "cell_type": "code",
   "execution_count": 2,
   "metadata": {},
   "outputs": [],
   "source": [
    "def get_wc_df(fname):\n",
    "    with open(fname,'r') as f:\n",
    "        data = f.read().replace('\\n', ' ')\n",
    "    words = re.findall(r'(\\b[A-Za-z][a-z]{0,15}\\b)', data)\n",
    "    frequency  = {}\n",
    "    for word in words:\n",
    "        count = frequency.get(word,0)\n",
    "        frequency[word] = count + 1\n",
    "    df = pd.DataFrame(list(frequency.items()), columns=['Word', 'Frequency'])\n",
    "    return df\n"
   ]
  },
  {
   "cell_type": "markdown",
   "metadata": {},
   "source": [
    "---\n",
    "---"
   ]
  },
  {
   "cell_type": "markdown",
   "metadata": {},
   "source": [
    "**(Pt. 2)** Now let's appy this to Ulysses: call the function on the file 'Ulisse.txt', then order the resulting frequencies according to the rank $r$, from the most frequent word with $r=1$ to the less frequent one. Which are the most frequent words in Ulysses?"
   ]
  },
  {
   "cell_type": "markdown",
   "metadata": {},
   "source": [
    "*Solution:*"
   ]
  },
  {
   "cell_type": "code",
   "execution_count": 4,
   "metadata": {},
   "outputs": [
    {
     "name": "stdout",
     "output_type": "stream",
     "text": [
      "Most numerous words in Ulysses\n",
      "    Word  Frequency  Rank\n",
      "6    the      13682   1.0\n",
      "11    of       8166   2.0\n",
      "16   and       6690   3.0\n",
      "9      a       5887   4.0\n",
      "115   to       4871   5.0\n",
      "79    in       4735   6.0\n",
      "81   his       3063   7.0\n",
      "267    I       2974   8.0\n",
      "39    he       2970   9.0\n",
      "121    s       2691  10.0\n"
     ]
    }
   ],
   "source": [
    "df_ul = get_wc_df('Ulisse.txt')\n",
    "df_ul['Rank'] = df_ul.Frequency.rank(ascending=False)\n",
    "\n",
    "\n",
    "#most numerous words\n",
    "print('Most numerous words in Ulysses')\n",
    "df_ul.sort_values(by='Rank', inplace=True)\n",
    "\n",
    "print(df_ul.head(10))\n"
   ]
  },
  {
   "cell_type": "markdown",
   "metadata": {},
   "source": [
    "---\n",
    "---"
   ]
  },
  {
   "cell_type": "markdown",
   "metadata": {},
   "source": [
    "**(Pt. 3)** We are now ready to check Zipf's law. Given the frequencies of words ordered according to the rank (i.e., in decreasing order), plot the frequency vs rank distribution in log-log scale, to show that it is power-law. Plot also the function $1/x$ to compare and check that the exponent of the power law seems to be indeed very close to one.\n",
    "\n",
    "\n",
    "[In the next homework, we will estimate the exponent using Maximum Likelihood]"
   ]
  },
  {
   "cell_type": "markdown",
   "metadata": {},
   "source": [
    "*Solution:*"
   ]
  },
  {
   "cell_type": "code",
   "execution_count": 4,
   "metadata": {},
   "outputs": [
    {
     "data": {
      "image/png": "[encoded data removed]",
      "text/plain": [
       "<Figure size 504x360 with 1 Axes>"
      ]
     },
     "metadata": {
      "needs_background": "light"
     },
     "output_type": "display_data"
    }
   ],
   "source": [
    "fig, ax = plt.subplots(figsize=(7,5))\n",
    "\n",
    "df_ul.plot(x='Rank',y='Frequency', kind='scatter', ax=ax, label='Ulysses', color='green',marker='d')\n",
    "\n",
    "## We plot the Zipf law x -> 1/x \n",
    "xs = np.logspace(0,3,10)\n",
    "plt.plot(xs,1e3*xs**(-1), lw=2, color='red', label='$y\\sim x^{-1}$')\n",
    "\n",
    "## Figure in log-log scale\n",
    "plt.xscale('log')\n",
    "plt.yscale('log')\n",
    "plt.legend(fontsize = 14)\n",
    "plt.grid()"
   ]
  },
  {
   "cell_type": "markdown",
   "metadata": {},
   "source": [
    "We now want to look at the distribution of the number of words as a function of their length [to compare with the case of random text, see below. This will be useful in TD1]. \n",
    "Using again the Ulysses, we want to determine:\n",
    "\n",
    "- the frequency of the words with a given lenght \n",
    "- the number of *distinct* words of a given length. "
   ]
  },
  {
   "cell_type": "markdown",
   "metadata": {},
   "source": [
    "**(Pt. 4)** Write a function (similar to the one above) that computes the distribution  of words as a function of their length (i.e., how many times a word of a given length appears). Plot an histogram showing the fraction of words having a given length."
   ]
  },
  {
   "cell_type": "markdown",
   "metadata": {},
   "source": [
    "*Solution:*"
   ]
  },
  {
   "cell_type": "code",
   "execution_count": 5,
   "metadata": {},
   "outputs": [
    {
     "data": {
      "image/png": "[encoded data removed]",
      "text/plain": [
       "<Figure size 432x288 with 1 Axes>"
      ]
     },
     "metadata": {
      "needs_background": "light"
     },
     "output_type": "display_data"
    }
   ],
   "source": [
    "#for each word, table the length. Repetitions of words are included here\n",
    "def get2_wc_df(fname):\n",
    "    with open(fname,'r') as f:\n",
    "        data = f.read().replace('\\n', ' ')\n",
    "    words = re.findall(r'(\\b[A-Za-z][a-z]{0,15}\\b)', data)\n",
    "    ammo=[len(w) for w in words] \n",
    "    return ammo\n",
    "\n",
    "\n",
    "#histogram of frequency of words -included repetitions - as a function of their length\n",
    "data = get2_wc_df('Ulisse.txt')\n",
    "\n",
    "# fixed bin size and range of the plot\n",
    "bins=range(24)\n",
    "plt.xlim([min(data)-.5, max(data)+1])\n",
    "\n",
    "plt.hist(data, bins=bins, alpha=0.4, density=True)\n",
    "plt.title('Ulysses')\n",
    "plt.xlabel('length of words ')\n",
    "plt.ylabel('fraction of words')\n",
    "\n",
    "plt.show()"
   ]
  },
  {
   "cell_type": "markdown",
   "metadata": {},
   "source": [
    "---\n",
    "---"
   ]
  },
  {
   "cell_type": "markdown",
   "metadata": {},
   "source": [
    "**(Pt. 5)** Now write a function that computes how many *distinct* words we have of a given length. Plot the resulting histogram. How does the fraction of distinct words increase with the length? Can we say that it increases exponentially? Plot the histogram in log scale to check. \n"
   ]
  },
  {
   "cell_type": "markdown",
   "metadata": {},
   "source": [
    "*Solution:*"
   ]
  },
  {
   "cell_type": "code",
   "execution_count": 6,
   "metadata": {},
   "outputs": [
    {
     "data": {
      "image/png": "[encoded data removed]",
      "text/plain": [
       "<Figure size 432x288 with 1 Axes>"
      ]
     },
     "metadata": {
      "needs_background": "light"
     },
     "output_type": "display_data"
    }
   ],
   "source": [
    "#takes the distinct words and gives the list of their length\n",
    "\n",
    "def get3_wc_df(fname):\n",
    "    with open(fname,'r') as f:\n",
    "        data = f.read().replace('\\n', ' ')\n",
    "    words = re.findall(r'(\\b[A-Za-z][a-z]{0,15}\\b)', data)\n",
    "    frequency  = {}\n",
    "    for word in words:\n",
    "        count = frequency.get(word,0)\n",
    "        frequency[word] = count + 1\n",
    "    pac = list(frequency.items())\n",
    "    nuova= list();\n",
    "    for pair in pac:\n",
    "        nuova.append(len(pair[0]))\n",
    "    return nuova\n",
    "\n",
    "data = get3_wc_df('Ulisse.txt')\n",
    "\n",
    "# fixed bin size and range of plot\n",
    "bins = np.arange(-1, 25, .5)\n",
    "plt.xlim([min(data)-.5, max(data)+1])\n",
    "\n",
    "\n",
    "plt.hist(data, bins=bins, alpha=0.5)\n",
    "plt.title('Ulisse')\n",
    "plt.xlabel('length of words ')\n",
    "plt.ylabel('number of distinct words')\n",
    "plt.yscale('log')\n",
    "\n",
    "plt.show()"
   ]
  },
  {
   "cell_type": "markdown",
   "metadata": {},
   "source": [
    "# <font color=orange> Exercise: </font>  Power laws in random language"
   ]
  },
  {
   "cell_type": "markdown",
   "metadata": {},
   "source": [
    "As an exercise, we want to reproduce the analysis above, but this time with a random text, where 'pseudo-words' \n",
    "are strings of letters appearing with equal probability, separated by a blank space [see Ex. 2 in TD1 for the analysis of this problem]. "
   ]
  },
  {
   "cell_type": "markdown",
   "metadata": {},
   "source": [
    "**(Pt. 6)** Generate a text file 'output_file.txt' which is composed by sequences of random length, of letters + the blank space. You may consider the simplest case in which each letter and the space appear with uniform probability. You can choose the total number of letters to use (let's call it *m*). For example, $m=8$ and the letter are chosen among the set $(a,b,c,d,e,f,g,h)$.\n",
    "\n",
    "*Hint:*  to generate the strings, you may use a function such as:"
   ]
  },
  {
   "cell_type": "code",
   "execution_count": 15,
   "metadata": {},
   "outputs": [],
   "source": [
    "def random_string():\n",
    "    output = ''.join(random.choice('a'+'b'+'c'+'d'+'e'+'f'+'g'+'h'+' ') for x in range(10**8)) \n",
    "    return output"
   ]
  },
  {
   "cell_type": "markdown",
   "metadata": {},
   "source": [
    "---\n",
    "---"
   ]
  },
  {
   "cell_type": "markdown",
   "metadata": {},
   "source": [
    "**(Pt. 7)** Do the rank- frequency plot in this case: what is the main difference with respect to the one obtained above? How does the exponent change as we change the number of letters $m$? Compare the power-law you get with the \n",
    "analytic estimate of the exponent [we will compute it in the TD1], that reads:\n",
    "\n",
    "\n",
    " <font color=black> $$\\alpha(m)= \\frac{\\log (m+1)}{\\log m}$$\n",
    "</font>\n",
    "\n",
    "\n",
    "\n",
    "\n"
   ]
  },
  {
   "cell_type": "markdown",
   "metadata": {},
   "source": [
    "---\n",
    "---"
   ]
  },
  {
   "cell_type": "markdown",
   "metadata": {},
   "source": [
    "**(Pt. 8)** Now look at the words of higher rank: do you see a pattern? Can you explain it? \n",
    "\n",
    "*Hint:* What is the probability to get a given word of length $L$, if the word is generated randomly as explained above?"
   ]
  },
  {
   "cell_type": "markdown",
   "metadata": {},
   "source": [
    "---\n",
    "---"
   ]
  },
  {
   "cell_type": "markdown",
   "metadata": {},
   "source": [
    "**(Pt. 9)** Finally, we count the number of distinct words of a given length in our randomly generated text.  Plot the number of distinct pseudo-words as a function of their length (in log scale), and check that the distribution is exactly what you expect for this simple case (what do you expect?). Compare with the distribution we got for the non-random text above. What happens after a certain length? "
   ]
  }
 ],
 "metadata": {
  "kernelspec": {
   "display_name": "Python 3 (ipykernel)",
   "language": "python",
   "name": "python3"
  },
  "language_info": {
   "codemirror_mode": {
    "name": "ipython",
    "version": 3
   },
   "file_extension": ".py",
   "mimetype": "text/x-python",
   "name": "python",
   "nbconvert_exporter": "python",
   "pygments_lexer": "ipython3",
   "version": "3.10.13"
  }
 },
 "nbformat": 4,
 "nbformat_minor": 4
}
