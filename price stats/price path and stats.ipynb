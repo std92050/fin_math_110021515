{
 "cells": [
  {
   "cell_type": "markdown",
   "id": "b3ba3f08-c300-42d1-b793-cd746eabd9d2",
   "metadata": {},
   "source": [
    "This note page is try to plot the price path of 0050 ETF and compute some\n",
    "empirical statics . The input data is from TWSE/Daily Trading Value/Volume of Individual Securities ."
   ]
  },
  {
   "cell_type": "code",
   "execution_count": 108,
   "id": "3aff73fa-3f4d-4496-94aa-a7524dde866e",
   "metadata": {
    "tags": []
   },
   "outputs": [],
   "source": [
    "import numpy as np\n",
    "import pandas as pd\n",
    "import matplotlib.pyplot as plt\n",
    "import scipy as sci"
   ]
  },
  {
   "cell_type": "markdown",
   "id": "80946add-c97f-42c8-8748-81301acfbd8a",
   "metadata": {},
   "source": [
    "### Data import\n",
    "Data includes the daily prices from 2023/1/1 ~2023/9/15 . It might be better to use web crawler to automatically download more data\n",
    "which is better for the accuracy , but I haven't learn such skill . So I can only download the file one by one manually ."
   ]
  },
  {
   "cell_type": "code",
   "execution_count": 68,
   "id": "29beeca1-0d25-4c8b-9e93-040b525caf32",
   "metadata": {
    "tags": []
   },
   "outputs": [
    {
     "data": {
      "text/html": [
       "<div>\n",
       "<style scoped>\n",
       "    .dataframe tbody tr th:only-of-type {\n",
       "        vertical-align: middle;\n",
       "    }\n",
       "\n",
       "    .dataframe tbody tr th {\n",
       "        vertical-align: top;\n",
       "    }\n",
       "\n",
       "    .dataframe thead th {\n",
       "        text-align: right;\n",
       "    }\n",
       "</style>\n",
       "<table border=\"1\" class=\"dataframe\">\n",
       "  <thead>\n",
       "    <tr style=\"text-align: right;\">\n",
       "      <th></th>\n",
       "      <th>日期</th>\n",
       "      <th>成交股數</th>\n",
       "      <th>成交金額</th>\n",
       "      <th>開盤價</th>\n",
       "      <th>最高價</th>\n",
       "      <th>最低價</th>\n",
       "      <th>收盤價</th>\n",
       "      <th>漲跌價差</th>\n",
       "      <th>成交筆數</th>\n",
       "    </tr>\n",
       "  </thead>\n",
       "  <tbody>\n",
       "    <tr>\n",
       "      <th>0</th>\n",
       "      <td>112/01/03</td>\n",
       "      <td>15,272,877</td>\n",
       "      <td>1,673,263,794</td>\n",
       "      <td>109.60</td>\n",
       "      <td>110.9</td>\n",
       "      <td>108.45</td>\n",
       "      <td>110.75</td>\n",
       "      <td>0.55</td>\n",
       "      <td>13,899</td>\n",
       "    </tr>\n",
       "    <tr>\n",
       "      <th>1</th>\n",
       "      <td>112/01/04</td>\n",
       "      <td>14,211,742</td>\n",
       "      <td>1,569,704,151</td>\n",
       "      <td>110.30</td>\n",
       "      <td>110.8</td>\n",
       "      <td>110.10</td>\n",
       "      <td>110.50</td>\n",
       "      <td>-0.25</td>\n",
       "      <td>11,908</td>\n",
       "    </tr>\n",
       "    <tr>\n",
       "      <th>2</th>\n",
       "      <td>112/01/05</td>\n",
       "      <td>12,395,862</td>\n",
       "      <td>1,379,134,974</td>\n",
       "      <td>111.25</td>\n",
       "      <td>111.7</td>\n",
       "      <td>110.95</td>\n",
       "      <td>111.30</td>\n",
       "      <td>0.8</td>\n",
       "      <td>10,075</td>\n",
       "    </tr>\n",
       "    <tr>\n",
       "      <th>3</th>\n",
       "      <td>112/01/06</td>\n",
       "      <td>11,826,560</td>\n",
       "      <td>1,321,964,557</td>\n",
       "      <td>111.20</td>\n",
       "      <td>112.2</td>\n",
       "      <td>111.15</td>\n",
       "      <td>111.80</td>\n",
       "      <td>0.5</td>\n",
       "      <td>9,838</td>\n",
       "    </tr>\n",
       "    <tr>\n",
       "      <th>4</th>\n",
       "      <td>112/01/09</td>\n",
       "      <td>15,649,173</td>\n",
       "      <td>1,796,709,538</td>\n",
       "      <td>114.00</td>\n",
       "      <td>115.8</td>\n",
       "      <td>113.90</td>\n",
       "      <td>115.80</td>\n",
       "      <td>4</td>\n",
       "      <td>16,946</td>\n",
       "    </tr>\n",
       "    <tr>\n",
       "      <th>...</th>\n",
       "      <td>...</td>\n",
       "      <td>...</td>\n",
       "      <td>...</td>\n",
       "      <td>...</td>\n",
       "      <td>...</td>\n",
       "      <td>...</td>\n",
       "      <td>...</td>\n",
       "      <td>...</td>\n",
       "      <td>...</td>\n",
       "    </tr>\n",
       "    <tr>\n",
       "      <th>207</th>\n",
       "      <td>說明:</td>\n",
       "      <td>NaN</td>\n",
       "      <td>NaN</td>\n",
       "      <td>NaN</td>\n",
       "      <td>NaN</td>\n",
       "      <td>NaN</td>\n",
       "      <td>NaN</td>\n",
       "      <td>NaN</td>\n",
       "      <td>NaN</td>\n",
       "    </tr>\n",
       "    <tr>\n",
       "      <th>208</th>\n",
       "      <td>符號說明:+/-/X表示漲/跌/不比價</td>\n",
       "      <td>NaN</td>\n",
       "      <td>NaN</td>\n",
       "      <td>NaN</td>\n",
       "      <td>NaN</td>\n",
       "      <td>NaN</td>\n",
       "      <td>NaN</td>\n",
       "      <td>NaN</td>\n",
       "      <td>NaN</td>\n",
       "    </tr>\n",
       "    <tr>\n",
       "      <th>209</th>\n",
       "      <td>當日統計資訊含一般、零股、盤後定價、鉅額交易，不含拍賣、標購。</td>\n",
       "      <td>NaN</td>\n",
       "      <td>NaN</td>\n",
       "      <td>NaN</td>\n",
       "      <td>NaN</td>\n",
       "      <td>NaN</td>\n",
       "      <td>NaN</td>\n",
       "      <td>NaN</td>\n",
       "      <td>NaN</td>\n",
       "    </tr>\n",
       "    <tr>\n",
       "      <th>210</th>\n",
       "      <td>ETF證券代號第六碼為K、M、S、C者，表示該ETF以外幣交易。</td>\n",
       "      <td>NaN</td>\n",
       "      <td>NaN</td>\n",
       "      <td>NaN</td>\n",
       "      <td>NaN</td>\n",
       "      <td>NaN</td>\n",
       "      <td>NaN</td>\n",
       "      <td>NaN</td>\n",
       "      <td>NaN</td>\n",
       "    </tr>\n",
       "    <tr>\n",
       "      <th>211</th>\n",
       "      <td>權證證券代號可重複使用，權證顯示之名稱係目前存續權證之簡稱。</td>\n",
       "      <td>NaN</td>\n",
       "      <td>NaN</td>\n",
       "      <td>NaN</td>\n",
       "      <td>NaN</td>\n",
       "      <td>NaN</td>\n",
       "      <td>NaN</td>\n",
       "      <td>NaN</td>\n",
       "      <td>NaN</td>\n",
       "    </tr>\n",
       "  </tbody>\n",
       "</table>\n",
       "<p>212 rows × 9 columns</p>\n",
       "</div>"
      ],
      "text/plain": [
       "                                   日期        成交股數           成交金額     開盤價  \\\n",
       "0                           112/01/03  15,272,877  1,673,263,794  109.60   \n",
       "1                           112/01/04  14,211,742  1,569,704,151  110.30   \n",
       "2                           112/01/05  12,395,862  1,379,134,974  111.25   \n",
       "3                           112/01/06  11,826,560  1,321,964,557  111.20   \n",
       "4                           112/01/09  15,649,173  1,796,709,538  114.00   \n",
       "..                                ...         ...            ...     ...   \n",
       "207                               說明:         NaN            NaN     NaN   \n",
       "208               符號說明:+/-/X表示漲/跌/不比價         NaN            NaN     NaN   \n",
       "209   當日統計資訊含一般、零股、盤後定價、鉅額交易，不含拍賣、標購。         NaN            NaN     NaN   \n",
       "210  ETF證券代號第六碼為K、M、S、C者，表示該ETF以外幣交易。         NaN            NaN     NaN   \n",
       "211    權證證券代號可重複使用，權證顯示之名稱係目前存續權證之簡稱。         NaN            NaN     NaN   \n",
       "\n",
       "       最高價     最低價     收盤價   漲跌價差    成交筆數  \n",
       "0    110.9  108.45  110.75   0.55  13,899  \n",
       "1    110.8  110.10  110.50  -0.25  11,908  \n",
       "2    111.7  110.95  111.30    0.8  10,075  \n",
       "3    112.2  111.15  111.80    0.5   9,838  \n",
       "4    115.8  113.90  115.80      4  16,946  \n",
       "..     ...     ...     ...    ...     ...  \n",
       "207    NaN     NaN     NaN    NaN     NaN  \n",
       "208    NaN     NaN     NaN    NaN     NaN  \n",
       "209    NaN     NaN     NaN    NaN     NaN  \n",
       "210    NaN     NaN     NaN    NaN     NaN  \n",
       "211    NaN     NaN     NaN    NaN     NaN  \n",
       "\n",
       "[212 rows x 9 columns]"
      ]
     },
     "execution_count": 68,
     "metadata": {},
     "output_type": "execute_result"
    }
   ],
   "source": [
    "data_list = [\"input data/STOCK_DAY_0050_20230%d.csv\" %month for month in range(1,10)]\n",
    "ETF_50 = pd.DataFrame()\n",
    "for data in data_list :\n",
    "    ETF_50=pd.concat([ETF_50 ,pd.read_csv( data , header = 1 , encoding = \"utf-8\") ] ,\n",
    "                    ignore_index = True)\n",
    "#header : start from n-th row of csv file (n=0 , same)\n",
    "ETF_50"
   ]
  },
  {
   "cell_type": "code",
   "execution_count": 78,
   "id": "96df86af-3a0b-4bbf-aacb-b075e042b5c7",
   "metadata": {
    "tags": []
   },
   "outputs": [],
   "source": [
    "#clear NaN \n",
    "ETF_50= ETF_50.dropna(ignore_index=True)"
   ]
  },
  {
   "cell_type": "markdown",
   "id": "ef706daa-abf2-4d62-bef0-207430d71721",
   "metadata": {},
   "source": [
    "### Plotting the path"
   ]
  },
  {
   "cell_type": "code",
   "execution_count": 83,
   "id": "f2edd974-08d4-45fa-80c8-893634a1eb99",
   "metadata": {
    "tags": []
   },
   "outputs": [],
   "source": [
    "price_array = np.array([])\n",
    "days = len(ETF_50.index)\n",
    "for t in range(days) :\n",
    "    price_in_a_day = [ETF_50.loc[t , \"開盤價\" ] ,ETF_50.loc[t ,  \"收盤價\"] ] # two prices (opening/closing) per day\n",
    "    price_array = np.append(price_array , price_in_a_day)"
   ]
  },
  {
   "cell_type": "code",
   "execution_count": 95,
   "id": "193bb318-224c-4242-b1f3-9ec0f04c3fb5",
   "metadata": {
    "tags": []
   },
   "outputs": [
    {
     "data": {
      "text/plain": [
       "[<matplotlib.lines.Line2D at 0x1f2dc8122f0>]"
      ]
     },
     "execution_count": 95,
     "metadata": {},
     "output_type": "execute_result"
    },
    {
     "data": {
      "image/png": "[encoded data removed]",
      "text/plain": [
       "<Figure size 1000x300 with 1 Axes>"
      ]
     },
     "metadata": {},
     "output_type": "display_data"
    }
   ],
   "source": [
    "plt.figure(figsize=(10,3))\n",
    "plt.plot(price_array )"
   ]
  },
  {
   "cell_type": "markdown",
   "id": "57402480-5b4a-4753-bfba-4f6497a66e0a",
   "metadata": {},
   "source": [
    "We can compare graph screenshoted from google :\n",
    "<img src=\"input data/0050_path.jpg\" style=\"width:1000px;height:300px\"/>        "
   ]
  },
  {
   "cell_type": "markdown",
   "id": "eb5263e8-a089-4947-9bc3-c342b24b5ad6",
   "metadata": {},
   "source": [
    "### Price statistcs"
   ]
  },
  {
   "cell_type": "code",
   "execution_count": 102,
   "id": "bbde72bd-254a-42d3-b930-0d6f74d40862",
   "metadata": {
    "tags": []
   },
   "outputs": [
    {
     "data": {
      "text/plain": [
       "(array([  2.,  10.,  22.,  51., 122.,  73.,  36.,  10.,   4.,   3.]),\n",
       " array([-0.01925551, -0.01506829, -0.01088107, -0.00669385, -0.00250662,\n",
       "         0.0016806 ,  0.00586782,  0.01005504,  0.01424227,  0.01842949,\n",
       "         0.02261671]),\n",
       " <BarContainer object of 10 artists>)"
      ]
     },
     "execution_count": 102,
     "metadata": {},
     "output_type": "execute_result"
    },
    {
     "data": {
      "image/png": "[encoded data removed]",
      "text/plain": [
       "<Figure size 640x480 with 1 Axes>"
      ]
     },
     "metadata": {},
     "output_type": "display_data"
    }
   ],
   "source": [
    "#define log return\n",
    "log_price_array = np.log(price_array)\n",
    "r_array = np.diff( log_price_array)\n",
    "plt.hist(r_array)"
   ]
  },
  {
   "cell_type": "code",
   "execution_count": 118,
   "id": "1db15912-0076-4054-a930-ca1ad8d82644",
   "metadata": {
    "tags": []
   },
   "outputs": [
    {
     "data": {
      "text/html": [
       "<div>\n",
       "<style scoped>\n",
       "    .dataframe tbody tr th:only-of-type {\n",
       "        vertical-align: middle;\n",
       "    }\n",
       "\n",
       "    .dataframe tbody tr th {\n",
       "        vertical-align: top;\n",
       "    }\n",
       "\n",
       "    .dataframe thead th {\n",
       "        text-align: right;\n",
       "    }\n",
       "</style>\n",
       "<table border=\"1\" class=\"dataframe\">\n",
       "  <thead>\n",
       "    <tr style=\"text-align: right;\">\n",
       "      <th></th>\n",
       "      <th>mean</th>\n",
       "      <th>var</th>\n",
       "      <th>med</th>\n",
       "      <th>skew</th>\n",
       "      <th>kur</th>\n",
       "    </tr>\n",
       "  </thead>\n",
       "  <tbody>\n",
       "    <tr>\n",
       "      <th>values</th>\n",
       "      <td>0.000451</td>\n",
       "      <td>0.000035</td>\n",
       "      <td>0.0</td>\n",
       "      <td>0.268572</td>\n",
       "      <td>1.486</td>\n",
       "    </tr>\n",
       "  </tbody>\n",
       "</table>\n",
       "</div>"
      ],
      "text/plain": [
       "            mean       var  med      skew    kur\n",
       "values  0.000451  0.000035  0.0  0.268572  1.486"
      ]
     },
     "execution_count": 118,
     "metadata": {},
     "output_type": "execute_result"
    }
   ],
   "source": [
    "#table of statics of log return , may not be reliable due to the lack of data and the assumption that log returns are i.i.d\n",
    "pd.DataFrame(  {\"mean\" : [np.mean(r_array)] ,\n",
    "\"var\" : [np.var(r_array)]  ,\n",
    "\"med\" : [np.median(r_array)] ,\n",
    "\"skew\" : [sci.stats.skew(r_array)] ,\n",
    "\"kur\" : [sci.stats.kurtosis(r_array)] } , index =[\"values\"] )"
   ]
  },
  {
   "cell_type": "code",
   "execution_count": null,
   "id": "d890e862-210f-4bfc-a3e3-0866c3316547",
   "metadata": {},
   "outputs": [],
   "source": []
  },
  {
   "cell_type": "markdown",
   "id": "e20fcab4-beed-41e4-a330-e684df4c67f9",
   "metadata": {},
   "source": [
    "#### Stylic fact?"
   ]
  },
  {
   "cell_type": "code",
   "execution_count": null,
   "id": "e328f0b2-e6da-4b81-8460-7b874d67c9f6",
   "metadata": {},
   "outputs": [],
   "source": []
  }
 ],
 "metadata": {
  "kernelspec": {
   "display_name": "Python 3 (ipykernel)",
   "language": "python",
   "name": "python3"
  },
  "language_info": {
   "codemirror_mode": {
    "name": "ipython",
    "version": 3
   },
   "file_extension": ".py",
   "mimetype": "text/x-python",
   "name": "python",
   "nbconvert_exporter": "python",
   "pygments_lexer": "ipython3",
   "version": "3.10.9"
  }
 },
 "nbformat": 4,
 "nbformat_minor": 5
}
